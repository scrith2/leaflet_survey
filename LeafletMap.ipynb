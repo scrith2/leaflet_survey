{
 "cells": [
  {
   "cell_type": "markdown",
   "metadata": {},
   "source": [
    "**Import Files**"
   ]
  },
  {
   "cell_type": "code",
   "execution_count": 68,
   "metadata": {},
   "outputs": [],
   "source": [
    "from ipyleaflet import Map, Marker, basemaps, GeoData, GeoJSON, Popup\n",
    "from ipywidgets import HTML\n",
    "import fiona\n",
    "import geopandas\n",
    "import json"
   ]
  },
  {
   "cell_type": "markdown",
   "metadata": {},
   "source": [
    "**Anonymize Data**"
   ]
  },
  {
   "cell_type": "markdown",
   "metadata": {},
   "source": [
    "```python\n",
    "geo_frame = geopandas.read_file('survey.shp')\n",
    "anon_frame =  geo_frame[['space_name','space_publ','space_acti','space_freq','space_last','space_extr','space_web1','geometry']]\n",
    "anon_frame.to_file(\"anon_results.json\", driver=\"GeoJSON\")\n",
    "```"
   ]
  },
  {
   "cell_type": "code",
   "execution_count": 74,
   "metadata": {},
   "outputs": [],
   "source": [
    "activity_map = {'space_activity_run':'Run',\n",
    "'space_activity_bicycle':'Bicycle',\n",
    "'space_activity_walk':'Walk',\n",
    "'space_activity_hike':'Hike',\n",
    "'space_activity_just_be':'Just Be', \n",
    "'other':'Other'}"
   ]
  },
  {
   "cell_type": "markdown",
   "metadata": {},
   "source": [
    "**Load Dataset and Crate Leaflet Map**"
   ]
  },
  {
   "cell_type": "code",
   "execution_count": 76,
   "metadata": {},
   "outputs": [
    {
     "data": {
      "application/vnd.jupyter.widget-view+json": {
       "model_id": "58131c2d7fce42fa9c681f1c5107e366",
       "version_major": 2,
       "version_minor": 0
      },
      "text/plain": [
       "Map(center=[37.566272, -77.4706], controls=(ZoomControl(options=['position', 'zoom_in_text', 'zoom_in_title', …"
      ]
     },
     "metadata": {},
     "output_type": "display_data"
    }
   ],
   "source": [
    "with open('anon_results.json', 'r') as f:\n",
    "  data = json.load(f)\n",
    "\n",
    "#Define map center as Scott's Addition\n",
    "center = (37.566272, -77.47060)\n",
    "\n",
    "#Create map\n",
    "m = Map(center = center, zoom = 12)#, basemap= basemaps.Esri.WorldTopoMap)\n",
    "\n",
    "for row in data['features']:\n",
    "    loc = (row['geometry']['coordinates'][1], row['geometry']['coordinates'][0])\n",
    "    message1 = HTML()\n",
    "    message1.value = '{} - {}'.format(row['properties']['space_name'], \n",
    "                                      activity_map[row['properties']['space_acti'].split(',')[0]])\n",
    "    #marker = Marker(location=loc)\n",
    "    popup = Popup(location=loc,\n",
    "    child=message1,\n",
    "    close_button=False,\n",
    "    auto_close=False,\n",
    "    close_on_escape_key=False\n",
    ")\n",
    "    m.add_layer(popup)\n",
    "\n",
    "#geo_json = GeoJSON(data=data, style={'tooltip':'foo'})\n",
    "\n",
    "\n",
    "display(m)"
   ]
  },
  {
   "cell_type": "code",
   "execution_count": 12,
   "metadata": {},
   "outputs": [
    {
     "data": {
      "text/plain": [
       "{'type': 'FeatureCollection',\n",
       " 'crs': {'type': 'name',\n",
       "  'properties': {'name': 'urn:ogc:def:crs:OGC:1.3:CRS84'}},\n",
       " 'features': [{'type': 'Feature',\n",
       "   'properties': {'space_name': 'Bryan Park',\n",
       "    'space_publ': 'space_public',\n",
       "    'space_acti': 'space_activity_walk,space_activity_just_be',\n",
       "    'space_freq': 'space_frequency_every_week',\n",
       "    'space_last': '2020-04-01',\n",
       "    'space_extr': 'This park is about a mile from my house, so I like to walk there. Sometimes I play Pokemon Go there.',\n",
       "    'space_web1': 'http://www.richmondgov.com/parks/parkBryan.aspx',\n",
       "    'style': {'tooltip': 'foo'}},\n",
       "   'geometry': {'type': 'Point',\n",
       "    'coordinates': [-77.47341871259454, 37.59323130239684]}},\n",
       "  {'type': 'Feature',\n",
       "   'properties': {'space_name': 'Bandy field',\n",
       "    'space_publ': 'space_public',\n",
       "    'space_acti': 'other',\n",
       "    'space_freq': 'space_frequency_every_day',\n",
       "    'space_last': '2020-04-01',\n",
       "    'space_extr': 'Nope',\n",
       "    'space_web1': None,\n",
       "    'style': {'tooltip': 'foo'}},\n",
       "   'geometry': {'type': 'Point',\n",
       "    'coordinates': [-77.53246591656692, 37.58641748486319]}},\n",
       "  {'type': 'Feature',\n",
       "   'properties': {'space_name': 'Pony Pasture',\n",
       "    'space_publ': 'space_public',\n",
       "    'space_acti': 'space_activity_run,space_activity_walk,space_activity_just_be',\n",
       "    'space_freq': 'space_frequency_every_week',\n",
       "    'space_last': '2020-02-01',\n",
       "    'space_extr': None,\n",
       "    'space_web1': None,\n",
       "    'style': {'tooltip': 'foo'}},\n",
       "   'geometry': {'type': 'Point',\n",
       "    'coordinates': [-77.51817431113108, 37.550487896765304]}},\n",
       "  {'type': 'Feature',\n",
       "   'properties': {'space_name': 'Larus',\n",
       "    'space_publ': 'space_public',\n",
       "    'space_acti': 'space_activity_hike',\n",
       "    'space_freq': 'space_frequency_less_often',\n",
       "    'space_last': '2020-01-01',\n",
       "    'space_extr': 'A nice getaway just a few miles from the house.',\n",
       "    'space_web1': None,\n",
       "    'style': {'tooltip': 'foo'}},\n",
       "   'geometry': {'type': 'Point', 'coordinates': [-77.56811, 37.54374]}},\n",
       "  {'type': 'Feature',\n",
       "   'properties': {'space_name': 'Byrd Park',\n",
       "    'space_publ': 'space_public',\n",
       "    'space_acti': 'space_activity_walk,space_activity_just_be,other',\n",
       "    'space_freq': 'space_frequency_less_often',\n",
       "    'space_last': '2020-03-01',\n",
       "    'space_extr': 'Love Maymont & Swan Lake',\n",
       "    'space_web1': 'https://www.google.com/maps/dir/37.542500+-77.473500//@37.542617,-77.4757536,17z/data=!4m6!4m5!1m3!2m2!1d-77.4735!2d37.5425!1m0?hl=en',\n",
       "    'style': {'tooltip': 'foo'}},\n",
       "   'geometry': {'type': 'Point', 'coordinates': [-77.47768, 37.54345]}},\n",
       "  {'type': 'Feature',\n",
       "   'properties': {'space_name': 'Hollywood Cemetery',\n",
       "    'space_publ': 'space_public',\n",
       "    'space_acti': 'space_activity_walk',\n",
       "    'space_freq': 'space_frequency_less_often',\n",
       "    'space_last': '2020-02-01',\n",
       "    'space_extr': None,\n",
       "    'space_web1': None,\n",
       "    'style': {'tooltip': 'foo'}},\n",
       "   'geometry': {'type': 'Point',\n",
       "    'coordinates': [-77.45643056882572, 37.53549938542502]}},\n",
       "  {'type': 'Feature',\n",
       "   'properties': {'space_name': 'Byrd Park',\n",
       "    'space_publ': 'space_public',\n",
       "    'space_acti': 'space_activity_run,space_activity_walk,space_activity_just_be',\n",
       "    'space_freq': 'space_frequency_every_day',\n",
       "    'space_last': '2020-04-01',\n",
       "    'space_extr': \"Byrd Park is great. It's been super packed on weekends and afternoons since the quarantine. People mostly stick to themselves, but occasionally you see a large group. In the mornings it's absolutely dead quiet. I took this photo yesterday at 7:30 AM and\",\n",
       "    'space_web1': None,\n",
       "    'style': {'tooltip': 'foo'}},\n",
       "   'geometry': {'type': 'Point',\n",
       "    'coordinates': [-77.47592926023239, 37.54185513551326]}},\n",
       "  {'type': 'Feature',\n",
       "   'properties': {'space_name': 'Chimborazo Park',\n",
       "    'space_publ': 'space_public',\n",
       "    'space_acti': 'space_activity_walk,space_activity_just_be,space_activity_run',\n",
       "    'space_freq': 'space_frequency_every_month',\n",
       "    'space_last': '2020-02-01',\n",
       "    'space_extr': 'I like that it has a great view of the city from churchill and has lots of huge great big trees to sit under.',\n",
       "    'space_web1': 'http://www.richmondgov.com/Parks/parkChimborazo.aspx',\n",
       "    'style': {'tooltip': 'foo'}},\n",
       "   'geometry': {'type': 'Point',\n",
       "    'coordinates': [-77.4113770065122, 37.52630623331627]}},\n",
       "  {'type': 'Feature',\n",
       "   'properties': {'space_name': 'Maymont Park',\n",
       "    'space_publ': 'space_public',\n",
       "    'space_acti': 'space_activity_walk,space_activity_just_be',\n",
       "    'space_freq': 'space_frequency_less_often',\n",
       "    'space_last': '2015-01-01',\n",
       "    'space_extr': 'I really like the nature center.',\n",
       "    'space_web1': None,\n",
       "    'style': {'tooltip': 'foo'}},\n",
       "   'geometry': {'type': 'Point', 'coordinates': [-77.47592, 37.53633]}},\n",
       "  {'type': 'Feature',\n",
       "   'properties': {'space_name': 'Belle Isle',\n",
       "    'space_publ': 'space_public',\n",
       "    'space_acti': 'space_activity_hike,space_activity_just_be',\n",
       "    'space_freq': 'space_frequency_every_week',\n",
       "    'space_last': '2020-05-01',\n",
       "    'space_extr': None,\n",
       "    'space_web1': None,\n",
       "    'style': {'tooltip': 'foo'}},\n",
       "   'geometry': {'type': 'Point',\n",
       "    'coordinates': [3.0953005847e-05, 0.005449714366404]}}]}"
      ]
     },
     "execution_count": 12,
     "metadata": {},
     "output_type": "execute_result"
    }
   ],
   "source": [
    "data"
   ]
  },
  {
   "cell_type": "code",
   "execution_count": null,
   "metadata": {},
   "outputs": [],
   "source": []
  }
 ],
 "metadata": {
  "kernelspec": {
   "display_name": "Python 3",
   "language": "python",
   "name": "python3"
  },
  "language_info": {
   "codemirror_mode": {
    "name": "ipython",
    "version": 3
   },
   "file_extension": ".py",
   "mimetype": "text/x-python",
   "name": "python",
   "nbconvert_exporter": "python",
   "pygments_lexer": "ipython3",
   "version": "3.6.5"
  }
 },
 "nbformat": 4,
 "nbformat_minor": 2
}
