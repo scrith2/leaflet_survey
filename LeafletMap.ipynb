{
 "cells": [
  {
   "cell_type": "markdown",
   "metadata": {},
   "source": [
    "**Import Files**"
   ]
  },
  {
   "cell_type": "code",
   "execution_count": 68,
   "metadata": {},
   "outputs": [],
   "source": [
    "from ipyleaflet import Map, Marker, basemaps, GeoData, GeoJSON, Popup\n",
    "from ipywidgets import HTML\n",
    "import fiona\n",
    "import geopandas\n",
    "import json"
   ]
  },
  {
   "cell_type": "markdown",
   "metadata": {},
   "source": [
    "**Anonymize Data**"
   ]
  },
  {
   "cell_type": "markdown",
   "metadata": {},
   "source": [
    "```python\n",
    "geo_frame = geopandas.read_file('survey.shp')\n",
    "anon_frame =  geo_frame[['space_name','space_publ','space_acti','space_freq','space_last','space_extr','space_web1','geometry']]\n",
    "anon_frame.to_file(\"anon_results.json\", driver=\"GeoJSON\")\n",
    "```"
   ]
  },
  {
   "cell_type": "code",
   "execution_count": 74,
   "metadata": {},
   "outputs": [],
   "source": [
    "activity_map = {'space_activity_run':'Run',\n",
    "'space_activity_bicycle':'Bicycle',\n",
    "'space_activity_walk':'Walk',\n",
    "'space_activity_hike':'Hike',\n",
    "'space_activity_just_be':'Just Be', \n",
    "'other':'Other'}"
   ]
  },
  {
   "cell_type": "markdown",
   "metadata": {},
   "source": [
    "**Load Dataset and Crate Leaflet Map**"
   ]
  },
  {
   "cell_type": "code",
   "execution_count": 76,
   "metadata": {},
   "outputs": [
    {
     "data": {
      "application/vnd.jupyter.widget-view+json": {
       "model_id": "58131c2d7fce42fa9c681f1c5107e366",
       "version_major": 2,
       "version_minor": 0
      },
      "text/plain": [
       "Map(center=[37.566272, -77.4706], controls=(ZoomControl(options=['position', 'zoom_in_text', 'zoom_in_title', …"
      ]
     },
     "metadata": {},
     "output_type": "display_data"
    }
   ],
   "source": [
    "with open('anon_results.json', 'r') as f:\n",
    "  data = json.load(f)\n",
    "\n",
    "#Define map center as Scott's Addition\n",
    "center = (37.566272, -77.47060)\n",
    "\n",
    "#Create map\n",
    "m = Map(center = center, zoom = 12)#, basemap= basemaps.Esri.WorldTopoMap)\n",
    "\n",
    "for row in data['features']:\n",
    "    loc = (row['geometry']['coordinates'][1], row['geometry']['coordinates'][0])\n",
    "    message1 = HTML()\n",
    "    message1.value = '{} - {}'.format(row['properties']['space_name'], \n",
    "                                      activity_map[row['properties']['space_acti'].split(',')[0]])\n",
    "    #marker = Marker(location=loc)\n",
    "    popup = Popup(location=loc,\n",
    "    child=message1,\n",
    "    close_button=False,\n",
    "    auto_close=False,\n",
    "    close_on_escape_key=False\n",
    ")\n",
    "    m.add_layer(popup)\n",
    "\n",
    "#geo_json = GeoJSON(data=data, style={'tooltip':'foo'})\n",
    "\n",
    "\n",
    "display(m)"
   ]
  }
 ],
 "metadata": {
  "kernelspec": {
   "display_name": "Python 3",
   "language": "python",
   "name": "python3"
  },
  "language_info": {
   "codemirror_mode": {
    "name": "ipython",
    "version": 3
   },
   "file_extension": ".py",
   "mimetype": "text/x-python",
   "name": "python",
   "nbconvert_exporter": "python",
   "pygments_lexer": "ipython3",
   "version": "3.6.5"
  }
 },
 "nbformat": 4,
 "nbformat_minor": 2
}
