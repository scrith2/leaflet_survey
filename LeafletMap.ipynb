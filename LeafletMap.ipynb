{
 "cells": [
  {
   "cell_type": "markdown",
   "metadata": {},
   "source": [
    "**Import Files**"
   ]
  },
  {
   "cell_type": "code",
   "execution_count": 1,
   "metadata": {},
   "outputs": [],
   "source": [
    "from ipyleaflet import Map, Marker, basemaps, GeoData\n",
    "import fiona\n",
    "import geopandas\n",
    "import json"
   ]
  },
  {
   "cell_type": "markdown",
   "metadata": {},
   "source": [
    "**Anonymize Data**"
   ]
  },
  {
   "cell_type": "markdown",
   "metadata": {},
   "source": [
    "geo_frame = geopandas.read_file('survey.shp')\n",
    "anon_frame =  geo_frame[['space_name','space_publ','space_acti','space_freq','space_last','space_extr','space_web1','geometry']]\n",
    "anon_frame.to_file(\"anon_results.json\", driver=\"GeoJSON\")"
   ]
  },
  {
   "cell_type": "markdown",
   "metadata": {},
   "source": [
    "**Load Dataset and Crate Leaflet Map**"
   ]
  },
  {
   "cell_type": "code",
   "execution_count": 7,
   "metadata": {},
   "outputs": [
    {
     "data": {
      "application/vnd.jupyter.widget-view+json": {
       "model_id": "7bbd7f1789294029abf513343ca4b67e",
       "version_major": 2,
       "version_minor": 0
      },
      "text/plain": [
       "Map(center=[37.566272, -77.4706], controls=(ZoomControl(options=['position', 'zoom_in_text', 'zoom_in_title', …"
      ]
     },
     "metadata": {},
     "output_type": "display_data"
    }
   ],
   "source": [
    "#Read data into GeoDataframe\n",
    "geo_res = geopandas.read_file('anon_results.json')\n",
    "\n",
    "#Define map center as Scott's Addition\n",
    "center = (37.566272, -77.47060)\n",
    "\n",
    "#Create map\n",
    "m = Map(center = center, zoom = 12)#, basemap= basemaps.Esri.WorldTopoMap)\n",
    "\n",
    "#Create layers\n",
    "marker = Marker(location=center, draggable=True)\n",
    "m.add_layer(marker);\n",
    "\n",
    "m.add_layer(geo_data)\n",
    "display(m)"
   ]
  },
  {
   "cell_type": "code",
   "execution_count": null,
   "metadata": {},
   "outputs": [],
   "source": []
  }
 ],
 "metadata": {
  "kernelspec": {
   "display_name": "Python 3",
   "language": "python",
   "name": "python3"
  },
  "language_info": {
   "codemirror_mode": {
    "name": "ipython",
    "version": 3
   },
   "file_extension": ".py",
   "mimetype": "text/x-python",
   "name": "python",
   "nbconvert_exporter": "python",
   "pygments_lexer": "ipython3",
   "version": "3.6.5"
  }
 },
 "nbformat": 4,
 "nbformat_minor": 2
}
