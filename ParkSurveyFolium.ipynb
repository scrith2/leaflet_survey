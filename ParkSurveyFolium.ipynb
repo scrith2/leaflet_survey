{
 "cells": [
  {
   "cell_type": "code",
   "execution_count": 10,
   "metadata": {},
   "outputs": [],
   "source": [
    "import folium\n",
    "import json\n",
    "\n",
    "with open('anon_results.json', 'r') as f:\n",
    "  data = json.load(f)\n",
    "\n",
    "#Define map center as Scott's Addition\n",
    "scotts_addition = (37.566272, -77.47060)\n",
    "\n",
    "#Create a plain non-interactive map with markers\n",
    "map1 = folium.Map(scotts_addition, zoom_start=12.5,control_scale=True)\n",
    "folium.GeoJson(data).add_to(map1)\n",
    "map1.save('map1.html')"
   ]
  },
  {
   "cell_type": "code",
   "execution_count": 11,
   "metadata": {},
   "outputs": [
    {
     "data": {
      "text/html": [
       "<!DOCTYPE html>\n",
       "<head>    \n",
       "    <meta http-equiv=\"content-type\" content=\"text/html; charset=UTF-8\" />\n",
       "    \n",
       "        <script>\n",
       "            L_NO_TOUCH = false;\n",
       "            L_DISABLE_3D = false;\n",
       "        </script>\n",
       "    \n",
       "    <script src=\"https://cdn.jsdelivr.net/npm/leaflet@1.5.1/dist/leaflet.js\"></script>\n",
       "    <script src=\"https://code.jquery.com/jquery-1.12.4.min.js\"></script>\n",
       "    <script src=\"https://maxcdn.bootstrapcdn.com/bootstrap/3.2.0/js/bootstrap.min.js\"></script>\n",
       "    <script src=\"https://cdnjs.cloudflare.com/ajax/libs/Leaflet.awesome-markers/2.0.2/leaflet.awesome-markers.js\"></script>\n",
       "    <link rel=\"stylesheet\" href=\"https://cdn.jsdelivr.net/npm/leaflet@1.5.1/dist/leaflet.css\"/>\n",
       "    <link rel=\"stylesheet\" href=\"https://maxcdn.bootstrapcdn.com/bootstrap/3.2.0/css/bootstrap.min.css\"/>\n",
       "    <link rel=\"stylesheet\" href=\"https://maxcdn.bootstrapcdn.com/bootstrap/3.2.0/css/bootstrap-theme.min.css\"/>\n",
       "    <link rel=\"stylesheet\" href=\"https://maxcdn.bootstrapcdn.com/font-awesome/4.6.3/css/font-awesome.min.css\"/>\n",
       "    <link rel=\"stylesheet\" href=\"https://cdnjs.cloudflare.com/ajax/libs/Leaflet.awesome-markers/2.0.2/leaflet.awesome-markers.css\"/>\n",
       "    <link rel=\"stylesheet\" href=\"https://rawcdn.githack.com/python-visualization/folium/master/folium/templates/leaflet.awesome.rotate.css\"/>\n",
       "    <style>html, body {width: 100%;height: 100%;margin: 0;padding: 0;}</style>\n",
       "    <style>#map {position:absolute;top:0;bottom:0;right:0;left:0;}</style>\n",
       "    \n",
       "            <meta name=\"viewport\" content=\"width=device-width,\n",
       "                initial-scale=1.0, maximum-scale=1.0, user-scalable=no\" />\n",
       "            <style>\n",
       "                #map_62e2e7c26b614150838fc3cbba6cd6a0 {\n",
       "                    position: relative;\n",
       "                    width: 100.0%;\n",
       "                    height: 100.0%;\n",
       "                    left: 0.0%;\n",
       "                    top: 0.0%;\n",
       "                }\n",
       "            </style>\n",
       "        \n",
       "</head>\n",
       "<body>    \n",
       "    \n",
       "            <div class=\"folium-map\" id=\"map_62e2e7c26b614150838fc3cbba6cd6a0\" ></div>\n",
       "        \n",
       "</body>\n",
       "<script>    \n",
       "    \n",
       "            var map_62e2e7c26b614150838fc3cbba6cd6a0 = L.map(\n",
       "                \"map_62e2e7c26b614150838fc3cbba6cd6a0\",\n",
       "                {\n",
       "                    center: [37.566272, -77.4706],\n",
       "                    crs: L.CRS.EPSG3857,\n",
       "                    zoom: 12.5,\n",
       "                    zoomControl: true,\n",
       "                    preferCanvas: false,\n",
       "                }\n",
       "            );\n",
       "            L.control.scale().addTo(map_62e2e7c26b614150838fc3cbba6cd6a0);\n",
       "\n",
       "            \n",
       "\n",
       "        \n",
       "    \n",
       "            var tile_layer_0a5a16cbc4e34df1a5dbb6f6f1a0e12a = L.tileLayer(\n",
       "                \"https://{s}.tile.openstreetmap.org/{z}/{x}/{y}.png\",\n",
       "                {\"attribution\": \"Data by \\u0026copy; \\u003ca href=\\\"http://openstreetmap.org\\\"\\u003eOpenStreetMap\\u003c/a\\u003e, under \\u003ca href=\\\"http://www.openstreetmap.org/copyright\\\"\\u003eODbL\\u003c/a\\u003e.\", \"detectRetina\": false, \"maxNativeZoom\": 18, \"maxZoom\": 18, \"minZoom\": 0, \"noWrap\": false, \"opacity\": 1, \"subdomains\": \"abc\", \"tms\": false}\n",
       "            ).addTo(map_62e2e7c26b614150838fc3cbba6cd6a0);\n",
       "        \n",
       "    \n",
       "        function geo_json_6685672f8911480b8b1849bc974cd0e5_onEachFeature(feature, layer) {\n",
       "            layer.on({\n",
       "                click: function(e) {\n",
       "                    map_62e2e7c26b614150838fc3cbba6cd6a0.fitBounds(e.target.getBounds());\n",
       "                }\n",
       "            });\n",
       "        };\n",
       "        var geo_json_6685672f8911480b8b1849bc974cd0e5 = L.geoJson(null, {\n",
       "                onEachFeature: geo_json_6685672f8911480b8b1849bc974cd0e5_onEachFeature,\n",
       "            \n",
       "        });\n",
       "        function geo_json_6685672f8911480b8b1849bc974cd0e5_add (data) {\n",
       "            geo_json_6685672f8911480b8b1849bc974cd0e5.addData(data)\n",
       "                .addTo(map_62e2e7c26b614150838fc3cbba6cd6a0);\n",
       "        }\n",
       "            geo_json_6685672f8911480b8b1849bc974cd0e5_add({\"crs\": {\"properties\": {\"name\": \"urn:ogc:def:crs:OGC:1.3:CRS84\"}, \"type\": \"name\"}, \"features\": [{\"geometry\": {\"coordinates\": [-77.47341871259454, 37.59323130239684], \"type\": \"Point\"}, \"properties\": {\"space_acti\": \"space_activity_walk,space_activity_just_be\", \"space_extr\": \"This park is about a mile from my house, so I like to walk there. Sometimes I play Pokemon Go there.\", \"space_freq\": \"space_frequency_every_week\", \"space_last\": \"2020-04-01\", \"space_name\": \"Bryan Park\", \"space_publ\": \"space_public\", \"space_web1\": \"http://www.richmondgov.com/parks/parkBryan.aspx\"}, \"type\": \"Feature\"}, {\"geometry\": {\"coordinates\": [-77.53246591656692, 37.58641748486319], \"type\": \"Point\"}, \"properties\": {\"space_acti\": \"other\", \"space_extr\": \"Nope\", \"space_freq\": \"space_frequency_every_day\", \"space_last\": \"2020-04-01\", \"space_name\": \"Bandy field\", \"space_publ\": \"space_public\", \"space_web1\": null}, \"type\": \"Feature\"}, {\"geometry\": {\"coordinates\": [-77.51817431113108, 37.550487896765304], \"type\": \"Point\"}, \"properties\": {\"space_acti\": \"space_activity_run,space_activity_walk,space_activity_just_be\", \"space_extr\": null, \"space_freq\": \"space_frequency_every_week\", \"space_last\": \"2020-02-01\", \"space_name\": \"Pony Pasture\", \"space_publ\": \"space_public\", \"space_web1\": null}, \"type\": \"Feature\"}, {\"geometry\": {\"coordinates\": [-77.56811, 37.54374], \"type\": \"Point\"}, \"properties\": {\"space_acti\": \"space_activity_hike\", \"space_extr\": \"A nice getaway just a few miles from the house.\", \"space_freq\": \"space_frequency_less_often\", \"space_last\": \"2020-01-01\", \"space_name\": \"Larus\", \"space_publ\": \"space_public\", \"space_web1\": null}, \"type\": \"Feature\"}, {\"geometry\": {\"coordinates\": [-77.47768, 37.54345], \"type\": \"Point\"}, \"properties\": {\"space_acti\": \"space_activity_walk,space_activity_just_be,other\", \"space_extr\": \"Love Maymont \\u0026 Swan Lake\", \"space_freq\": \"space_frequency_less_often\", \"space_last\": \"2020-03-01\", \"space_name\": \"Byrd Park\", \"space_publ\": \"space_public\", \"space_web1\": \"https://www.google.com/maps/dir/37.542500+-77.473500//@37.542617,-77.4757536,17z/data=!4m6!4m5!1m3!2m2!1d-77.4735!2d37.5425!1m0?hl=en\"}, \"type\": \"Feature\"}, {\"geometry\": {\"coordinates\": [-77.45643056882572, 37.53549938542502], \"type\": \"Point\"}, \"properties\": {\"space_acti\": \"space_activity_walk\", \"space_extr\": null, \"space_freq\": \"space_frequency_less_often\", \"space_last\": \"2020-02-01\", \"space_name\": \"Hollywood Cemetery\", \"space_publ\": \"space_public\", \"space_web1\": null}, \"type\": \"Feature\"}, {\"geometry\": {\"coordinates\": [-77.47592926023239, 37.54185513551326], \"type\": \"Point\"}, \"properties\": {\"space_acti\": \"space_activity_run,space_activity_walk,space_activity_just_be\", \"space_extr\": \"Byrd Park is great. It\\u0027s been super packed on weekends and afternoons since the quarantine. People mostly stick to themselves, but occasionally you see a large group. In the mornings it\\u0027s absolutely dead quiet. I took this photo yesterday at 7:30 AM and\", \"space_freq\": \"space_frequency_every_day\", \"space_last\": \"2020-04-01\", \"space_name\": \"Byrd Park\", \"space_publ\": \"space_public\", \"space_web1\": null}, \"type\": \"Feature\"}, {\"geometry\": {\"coordinates\": [-77.4113770065122, 37.52630623331627], \"type\": \"Point\"}, \"properties\": {\"space_acti\": \"space_activity_walk,space_activity_just_be,space_activity_run\", \"space_extr\": \"I like that it has a great view of the city from churchill and has lots of huge great big trees to sit under.\", \"space_freq\": \"space_frequency_every_month\", \"space_last\": \"2020-02-01\", \"space_name\": \"Chimborazo Park\", \"space_publ\": \"space_public\", \"space_web1\": \"http://www.richmondgov.com/Parks/parkChimborazo.aspx\"}, \"type\": \"Feature\"}, {\"geometry\": {\"coordinates\": [-77.47592, 37.53633], \"type\": \"Point\"}, \"properties\": {\"space_acti\": \"space_activity_walk,space_activity_just_be\", \"space_extr\": \"I really like the nature center.\", \"space_freq\": \"space_frequency_less_often\", \"space_last\": \"2015-01-01\", \"space_name\": \"Maymont Park\", \"space_publ\": \"space_public\", \"space_web1\": null}, \"type\": \"Feature\"}, {\"geometry\": {\"coordinates\": [3.0953005847e-05, 0.005449714366404], \"type\": \"Point\"}, \"properties\": {\"space_acti\": \"space_activity_hike,space_activity_just_be\", \"space_extr\": null, \"space_freq\": \"space_frequency_every_week\", \"space_last\": \"2020-05-01\", \"space_name\": \"Belle Isle\", \"space_publ\": \"space_public\", \"space_web1\": null}, \"type\": \"Feature\"}], \"type\": \"FeatureCollection\"});\n",
       "        \n",
       "</script>"
      ],
      "text/plain": [
       "<IPython.core.display.HTML object>"
      ]
     },
     "execution_count": 11,
     "metadata": {},
     "output_type": "execute_result"
    }
   ],
   "source": [
    "from IPython.display import HTML\n",
    "\n",
    "HTML(filename=\"./map1.html\")"
   ]
  },
  {
   "cell_type": "code",
   "execution_count": null,
   "metadata": {},
   "outputs": [],
   "source": [
    "for row in data['features']:\n",
    "    loc = (row['geometry']['coordinates'][1], row['geometry']['coordinates'][0])\n",
    "    message1 = HTML()\n",
    "    message1.value = '{} - {}'.format(row['properties']['space_name'], \n",
    "                                      activity_map[row['properties']['space_acti'].split(',')[0]])\n",
    "    #marker = Marker(location=loc)\n",
    "    popup = Popup(location=loc,\n",
    "    child=message1,\n",
    "    close_button=False,\n",
    "    auto_close=False,\n",
    "    close_on_escape_key=False\n",
    ")\n",
    "    m.add_layer(popup)"
   ]
  }
 ],
 "metadata": {
  "kernelspec": {
   "display_name": "Python 3",
   "language": "python",
   "name": "python3"
  },
  "language_info": {
   "codemirror_mode": {
    "name": "ipython",
    "version": 3
   },
   "file_extension": ".py",
   "mimetype": "text/x-python",
   "name": "python",
   "nbconvert_exporter": "python",
   "pygments_lexer": "ipython3",
   "version": "3.6.5"
  }
 },
 "nbformat": 4,
 "nbformat_minor": 2
}
